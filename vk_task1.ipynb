{
  "nbformat": 4,
  "nbformat_minor": 0,
  "metadata": {
    "colab": {
      "provenance": [],
      "gpuType": "T4",
      "authorship_tag": "ABX9TyPXaDzQgDCGQ1zvTSKxo8O/",
      "include_colab_link": true
    },
    "kernelspec": {
      "name": "python3",
      "display_name": "Python 3"
    },
    "language_info": {
      "name": "python"
    },
    "accelerator": "GPU",
    "gpuClass": "standard"
  },
  "cells": [
    {
      "cell_type": "markdown",
      "metadata": {
        "id": "view-in-github",
        "colab_type": "text"
      },
      "source": [
        "<a href=\"https://colab.research.google.com/github/Belebez/VK_test/blob/main/vk_task1.ipynb\" target=\"_parent\"><img src=\"https://colab.research.google.com/assets/colab-badge.svg\" alt=\"Open In Colab\"/></a>"
      ]
    },
    {
      "cell_type": "markdown",
      "source": [
        "# Приветствую!\n",
        "\n"
      ],
      "metadata": {
        "id": "MX56K6_ToW3v"
      }
    },
    {
      "cell_type": "markdown",
      "source": [
        "### Этап 1. Подготовка данных"
      ],
      "metadata": {
        "id": "l2ZyhxwMohne"
      }
    },
    {
      "cell_type": "code",
      "execution_count": 2,
      "metadata": {
        "id": "i9hQyrXoYH4F"
      },
      "outputs": [],
      "source": [
        "import numpy as np\n",
        "import pandas as pd\n",
        "import tensorflow as tf\n",
        "from sklearn.model_selection import train_test_split"
      ]
    },
    {
      "cell_type": "code",
      "source": [
        "from google.colab import drive\n",
        "drive.mount('/content/drive')"
      ],
      "metadata": {
        "colab": {
          "base_uri": "https://localhost:8080/"
        },
        "id": "fXJvIQJEYY1E",
        "outputId": "768a86ed-e893-4c88-8c29-cc2f1eecee55"
      },
      "execution_count": 4,
      "outputs": [
        {
          "output_type": "stream",
          "name": "stdout",
          "text": [
            "Mounted at /content/drive\n"
          ]
        }
      ]
    },
    {
      "cell_type": "code",
      "source": [
        "# прочитаем файлы\n",
        "ratings = pd.read_csv('/content/drive/MyDrive/Colab_Notebooks/task_vk/ratings.csv')"
      ],
      "metadata": {
        "id": "CvKGD6XrYRBP"
      },
      "execution_count": 5,
      "outputs": []
    },
    {
      "cell_type": "code",
      "source": [
        "movies = pd.read_csv('/content/drive/MyDrive/Colab_Notebooks/task_vk/movies.csv')"
      ],
      "metadata": {
        "id": "YXiaf4qlnvWh"
      },
      "execution_count": 24,
      "outputs": []
    },
    {
      "cell_type": "code",
      "source": [
        "# Разбиваем данные на обучающую и тестовую выборки\n",
        "train_ratings, test_ratings = train_test_split(ratings, test_size=0.2, random_state=42)\n",
        "\n",
        "# Разделение на обучающую и тестовую выборки помогает оценить качество модели на реальных данных\n",
        "# и сделать выводы о ее способности делать точные предсказания на новых примерах."
      ],
      "metadata": {
        "id": "1kwMsoGtYREE"
      },
      "execution_count": 6,
      "outputs": []
    },
    {
      "cell_type": "code",
      "source": [
        "# Создаем словари для преобразования идентификаторов пользователей и фильмов в индексы\n",
        "user_to_index = {u: i for i, u in enumerate(train_ratings['userId'].unique())}\n",
        "movie_to_index = {m: i for i, m in enumerate(train_ratings['movieId'].unique())}"
      ],
      "metadata": {
        "id": "xJgQcDyNYRHB"
      },
      "execution_count": 7,
      "outputs": []
    },
    {
      "cell_type": "code",
      "source": [
        "index_to_movie = {i: m for m, i in movie_to_index.items()}"
      ],
      "metadata": {
        "id": "cMAnkN84nfN6"
      },
      "execution_count": 21,
      "outputs": []
    },
    {
      "cell_type": "code",
      "source": [
        "# Преобразуем идентификаторы пользователей и фильмов в индексы\n",
        "train_ratings['user_index'] = train_ratings['userId'].apply(lambda u: user_to_index[u])\n",
        "train_ratings['movie_index'] = train_ratings['movieId'].apply(lambda m: movie_to_index[m])\n",
        "test_ratings['user_index'] = test_ratings['userId'].apply(lambda u: user_to_index.get(u, -1))\n",
        "test_ratings['movie_index'] = test_ratings['movieId'].apply(lambda m: movie_to_index.get(m, -1))"
      ],
      "metadata": {
        "id": "IVn1A7KAYRK9"
      },
      "execution_count": 8,
      "outputs": []
    },
    {
      "cell_type": "markdown",
      "source": [
        "### Этап 2. Обучение модели"
      ],
      "metadata": {
        "id": "mDTM3MZJpB-L"
      }
    },
    {
      "cell_type": "code",
      "source": [
        "# Гиперпараметры модели\n",
        "embedding_dim = 32\n",
        "dropout_rate = 0.2\n",
        "learning_rate = 0.001\n",
        "batch_size = 512\n",
        "epochs = 10"
      ],
      "metadata": {
        "id": "Nroc3ztxYROs"
      },
      "execution_count": 9,
      "outputs": []
    },
    {
      "cell_type": "code",
      "source": [
        "# Создадим модель\n",
        "\n",
        "# Выбранная архитектура нейронной сети является базовой для задачи рекомендации фильмов на основе векторных представлений пользователей и фильмов. \n",
        "\n",
        "# Входной тензор для индексов пользователей\n",
        "user_input = tf.keras.layers.Input(shape=(1,))\n",
        "# Входной тензор для индексов фильмов\n",
        "movie_input = tf.keras.layers.Input(shape=(1,))\n",
        "# Слой эмбеддинга пользователей. Он преобразует индексы пользователей в плотные векторные представления фиксированного размера (32 в данном случае)\n",
        "user_embedding = tf.keras.layers.Embedding(len(user_to_index), embedding_dim, name='user_embedding')(user_input)\n",
        "# Слой эмбеддинга фильмов. Аналогично, он преобразует индексы фильмов в плотные векторные представления.\n",
        "movie_embedding = tf.keras.layers.Embedding(len(movie_to_index), embedding_dim, name='movie_embedding')(movie_input)\n",
        "# Соединение векторных представлений пользователей и фильмов в единый вектор. Здесь выполняется конкатенация векторов пользователей и фильмов\n",
        "# по последней оси, чтобы объединить их вместе.\n",
        "concatenated = tf.keras.layers.concatenate([user_embedding, movie_embedding], axis=-1)\n",
        "# Dropout слой с коэффициентом отсева (dropout_rate = 0.2) применяется к соединенному вектору для регуляризации модели и снижения переобучения.\n",
        "x = tf.keras.layers.Dropout(dropout_rate)(concatenated)\n",
        "# Полносвязный слой с 128 нейронами и функцией активации ReLU. Он применяет линейное преобразование к входным данным и вводит нелинейность в модель.\n",
        "x = tf.keras.layers.Dense(128, activation='relu')(x)\n",
        "# Для дополнительной регуляризации.\n",
        "x = tf.keras.layers.Dropout(dropout_rate)(x)\n",
        "# Полносвязный слой с одним нейроном и линейной активацией. Он генерирует предсказанную оценку для рейтинга фильма.\n",
        "output = tf.keras.layers.Dense(1, activation='linear')(x)\n",
        "\n",
        "model = tf.keras.models.Model(inputs=[user_input, movie_input], outputs=output)\n",
        "\n",
        "\n",
        "\n",
        "model.compile(loss='mean_squared_error', optimizer=tf.keras.optimizers.Adam(learning_rate=learning_rate))\n",
        "\n",
        "# Обоснование выбора MSE:\n",
        "\n",
        "# 1. Соответствие задаче: MSE широко используется в задачах регрессии, где требуется предсказать числовые значения. \n",
        "# В случае рекомендательных систем, где оценивается рейтинг пользователя для фильма, MSE является естественным выбором, \n",
        "# поскольку она измеряет среднеквадратичное отклонение между предсказанными и фактическими значениями рейтинга.\n",
        "\n",
        "# 2. Чувствительность к ошибкам: MSE позволяет учесть большие отклонения между предсказанными и фактическими значениями, \n",
        "# так как квадратичная функция увеличивает вес больших ошибок. Это полезно для рекомендательных систем, \n",
        "# где точность предсказания рейтинга имеет большое значение."
      ],
      "metadata": {
        "id": "nfuA5Nm5YRQR"
      },
      "execution_count": 10,
      "outputs": []
    },
    {
      "cell_type": "code",
      "source": [
        "# Обучаем модель на обучающей выборке и оцениваем ее качество на валидационной выборке\n",
        "history = model.fit(\n",
        "    [train_ratings['user_index'], train_ratings['movie_index']],\n",
        "    train_ratings['rating'],\n",
        "    batch_size=batch_size,\n",
        "    epochs=epochs,\n",
        "    verbose=1,\n",
        "    validation_split=0.2\n",
        ")"
      ],
      "metadata": {
        "colab": {
          "base_uri": "https://localhost:8080/"
        },
        "id": "jPh78a36YRSr",
        "outputId": "3355dba1-48de-418c-a780-d65b55db78c0"
      },
      "execution_count": 11,
      "outputs": [
        {
          "output_type": "stream",
          "name": "stdout",
          "text": [
            "Epoch 1/10\n",
            "34692/34692 [==============================] - 278s 8ms/step - loss: 0.8128 - val_loss: 0.7310\n",
            "Epoch 2/10\n",
            "34692/34692 [==============================] - 250s 7ms/step - loss: 0.7196 - val_loss: 0.7096\n",
            "Epoch 3/10\n",
            "34692/34692 [==============================] - 281s 8ms/step - loss: 0.6983 - val_loss: 0.7010\n",
            "Epoch 4/10\n",
            "34692/34692 [==============================] - 263s 8ms/step - loss: 0.6840 - val_loss: 0.6907\n",
            "Epoch 5/10\n",
            "34692/34692 [==============================] - 251s 7ms/step - loss: 0.6717 - val_loss: 0.6838\n",
            "Epoch 6/10\n",
            "34692/34692 [==============================] - 252s 7ms/step - loss: 0.6608 - val_loss: 0.6799\n",
            "Epoch 7/10\n",
            "34692/34692 [==============================] - 258s 7ms/step - loss: 0.6518 - val_loss: 0.6733\n",
            "Epoch 8/10\n",
            "34692/34692 [==============================] - 251s 7ms/step - loss: 0.6445 - val_loss: 0.6700\n",
            "Epoch 9/10\n",
            "34692/34692 [==============================] - 249s 7ms/step - loss: 0.6384 - val_loss: 0.6695\n",
            "Epoch 10/10\n",
            "34692/34692 [==============================] - 250s 7ms/step - loss: 0.6334 - val_loss: 0.6661\n"
          ]
        }
      ]
    },
    {
      "cell_type": "code",
      "source": [
        "# Оцениваем качество модели на тестовой выборке\n",
        "test_loss = model.evaluate([test_ratings['user_index'], test_ratings['movie_index']], test_ratings['rating'])\n",
        "print('Test MSE: ', test_loss)"
      ],
      "metadata": {
        "colab": {
          "base_uri": "https://localhost:8080/"
        },
        "id": "GzcxzlmWYRVg",
        "outputId": "92c60f8f-e445-4c45-ca6c-1518f20437a7"
      },
      "execution_count": 12,
      "outputs": [
        {
          "output_type": "stream",
          "name": "stdout",
          "text": [
            "173460/173460 [==============================] - 444s 3ms/step - loss: 0.6653\n",
            "Test MSE:  0.6652815341949463\n"
          ]
        }
      ]
    },
    {
      "cell_type": "markdown",
      "source": [
        "Модель показывает хорошие результаты в предсказании рейтингов пользователей для фильмов, среднеквадратичная ошибка составляет примерно 0.6653 по шкале от 1 до 10."
      ],
      "metadata": {
        "id": "pJbO_VS6l6cx"
      }
    },
    {
      "cell_type": "markdown",
      "source": [
        "### Этап 3. Составление рекомендаций"
      ],
      "metadata": {
        "id": "7saNI7pao3oJ"
      }
    },
    {
      "cell_type": "code",
      "source": [
        "# Получаем индексы всех фильмов\n",
        "all_movie_indices = np.arange(len(movie_to_index))"
      ],
      "metadata": {
        "id": "PJt99YgzY0tk"
      },
      "execution_count": 13,
      "outputs": []
    },
    {
      "cell_type": "code",
      "source": [
        "# Выбираем случайного пользователя\n",
        "user_index = np.random.choice(np.arange(len(user_to_index)))"
      ],
      "metadata": {
        "id": "9LMaGv2VY0wP"
      },
      "execution_count": 14,
      "outputs": []
    },
    {
      "cell_type": "code",
      "source": [
        "# Отфильтровываем фильмы, которые пользователь уже оценил\n",
        "rated_movies = train_ratings[train_ratings['user_index'] == user_index]['movie_index'].values\n",
        "unrated_movies = np.setdiff1d(all_movie_indices, rated_movies)"
      ],
      "metadata": {
        "id": "l1oYHkIzY0zF"
      },
      "execution_count": 15,
      "outputs": []
    },
    {
      "cell_type": "code",
      "source": [
        "# Создаем входные данные для предсказания рейтингов непросмотренных фильмов пользователем\n",
        "user_indices = np.full(len(unrated_movies), user_index)\n",
        "movie_indices = unrated_movies.reshape(-1, 1)"
      ],
      "metadata": {
        "id": "fshWReJfYRYk"
      },
      "execution_count": 16,
      "outputs": []
    },
    {
      "cell_type": "code",
      "source": [
        "# Предсказываем рейтинги непросмотренных фильмов\n",
        "predicted_ratings = model.predict([user_indices, movie_indices]).flatten()\n",
        "\n",
        "# Использование flatten() позволяет преобразовать двумерный массив в одномерный массив, чтобы получить список предсказанных рейтингов,"
      ],
      "metadata": {
        "colab": {
          "base_uri": "https://localhost:8080/"
        },
        "id": "B0BxjSS1YRbe",
        "outputId": "e1768e3d-2ee7-47cc-e420-ecbcedd07d64"
      },
      "execution_count": 17,
      "outputs": [
        {
          "output_type": "stream",
          "name": "stdout",
          "text": [
            "1611/1611 [==============================] - 3s 2ms/step\n"
          ]
        }
      ]
    },
    {
      "cell_type": "code",
      "source": [
        "# Получаем индексы фильмов с наивысшими предсказанными рейтингами\n",
        "top_movies_indices = predicted_ratings.argsort()[::-1][:7]"
      ],
      "metadata": {
        "id": "OkcHvrCxY-ml"
      },
      "execution_count": 27,
      "outputs": []
    },
    {
      "cell_type": "code",
      "source": [
        "# Получаем идентификаторы фильмов\n",
        "top_movies_ids = [index_to_movie[i] for i in top_movies_indices]"
      ],
      "metadata": {
        "id": "HnSGp5NcY-pX"
      },
      "execution_count": 28,
      "outputs": []
    },
    {
      "cell_type": "code",
      "source": [
        "# Выводим рекомендованные фильмы\n",
        "recommended_movies = movies[movies['movieId'].isin(top_movies_ids)]\n",
        "recommended_movies[['movieId', 'title', 'genres']]"
      ],
      "metadata": {
        "colab": {
          "base_uri": "https://localhost:8080/",
          "height": 269
        },
        "id": "YTSbz5BgY-sN",
        "outputId": "4873d5ee-829b-458b-dae9-fa096045c889"
      },
      "execution_count": 29,
      "outputs": [
        {
          "output_type": "execute_result",
          "data": {
            "text/plain": [
              "       movieId                                              title  \\\n",
              "315        318                   Shawshank Redemption, The (1994)   \n",
              "973        991                             Michael Collins (1996)   \n",
              "5554      5652                          Claire of the Moon (1992)   \n",
              "7345      7482                            Enter the Dragon (1973)   \n",
              "11063    45648                                      Game 6 (2005)   \n",
              "15247    77414                              Last Song, The (2010)   \n",
              "21396   103210  Fullmetal Alchemist: The Sacred Star of Milos ...   \n",
              "\n",
              "                           genres  \n",
              "315                   Crime|Drama  \n",
              "973                         Drama  \n",
              "5554                Drama|Romance  \n",
              "7345                 Action|Crime  \n",
              "11063                Comedy|Drama  \n",
              "15247               Drama|Romance  \n",
              "21396  Action|Adventure|Animation  "
            ],
            "text/html": [
              "\n",
              "  <div id=\"df-57fdda99-61bd-4f7e-a904-6527b6d9eb36\">\n",
              "    <div class=\"colab-df-container\">\n",
              "      <div>\n",
              "<style scoped>\n",
              "    .dataframe tbody tr th:only-of-type {\n",
              "        vertical-align: middle;\n",
              "    }\n",
              "\n",
              "    .dataframe tbody tr th {\n",
              "        vertical-align: top;\n",
              "    }\n",
              "\n",
              "    .dataframe thead th {\n",
              "        text-align: right;\n",
              "    }\n",
              "</style>\n",
              "<table border=\"1\" class=\"dataframe\">\n",
              "  <thead>\n",
              "    <tr style=\"text-align: right;\">\n",
              "      <th></th>\n",
              "      <th>movieId</th>\n",
              "      <th>title</th>\n",
              "      <th>genres</th>\n",
              "    </tr>\n",
              "  </thead>\n",
              "  <tbody>\n",
              "    <tr>\n",
              "      <th>315</th>\n",
              "      <td>318</td>\n",
              "      <td>Shawshank Redemption, The (1994)</td>\n",
              "      <td>Crime|Drama</td>\n",
              "    </tr>\n",
              "    <tr>\n",
              "      <th>973</th>\n",
              "      <td>991</td>\n",
              "      <td>Michael Collins (1996)</td>\n",
              "      <td>Drama</td>\n",
              "    </tr>\n",
              "    <tr>\n",
              "      <th>5554</th>\n",
              "      <td>5652</td>\n",
              "      <td>Claire of the Moon (1992)</td>\n",
              "      <td>Drama|Romance</td>\n",
              "    </tr>\n",
              "    <tr>\n",
              "      <th>7345</th>\n",
              "      <td>7482</td>\n",
              "      <td>Enter the Dragon (1973)</td>\n",
              "      <td>Action|Crime</td>\n",
              "    </tr>\n",
              "    <tr>\n",
              "      <th>11063</th>\n",
              "      <td>45648</td>\n",
              "      <td>Game 6 (2005)</td>\n",
              "      <td>Comedy|Drama</td>\n",
              "    </tr>\n",
              "    <tr>\n",
              "      <th>15247</th>\n",
              "      <td>77414</td>\n",
              "      <td>Last Song, The (2010)</td>\n",
              "      <td>Drama|Romance</td>\n",
              "    </tr>\n",
              "    <tr>\n",
              "      <th>21396</th>\n",
              "      <td>103210</td>\n",
              "      <td>Fullmetal Alchemist: The Sacred Star of Milos ...</td>\n",
              "      <td>Action|Adventure|Animation</td>\n",
              "    </tr>\n",
              "  </tbody>\n",
              "</table>\n",
              "</div>\n",
              "      <button class=\"colab-df-convert\" onclick=\"convertToInteractive('df-57fdda99-61bd-4f7e-a904-6527b6d9eb36')\"\n",
              "              title=\"Convert this dataframe to an interactive table.\"\n",
              "              style=\"display:none;\">\n",
              "        \n",
              "  <svg xmlns=\"http://www.w3.org/2000/svg\" height=\"24px\"viewBox=\"0 0 24 24\"\n",
              "       width=\"24px\">\n",
              "    <path d=\"M0 0h24v24H0V0z\" fill=\"none\"/>\n",
              "    <path d=\"M18.56 5.44l.94 2.06.94-2.06 2.06-.94-2.06-.94-.94-2.06-.94 2.06-2.06.94zm-11 1L8.5 8.5l.94-2.06 2.06-.94-2.06-.94L8.5 2.5l-.94 2.06-2.06.94zm10 10l.94 2.06.94-2.06 2.06-.94-2.06-.94-.94-2.06-.94 2.06-2.06.94z\"/><path d=\"M17.41 7.96l-1.37-1.37c-.4-.4-.92-.59-1.43-.59-.52 0-1.04.2-1.43.59L10.3 9.45l-7.72 7.72c-.78.78-.78 2.05 0 2.83L4 21.41c.39.39.9.59 1.41.59.51 0 1.02-.2 1.41-.59l7.78-7.78 2.81-2.81c.8-.78.8-2.07 0-2.86zM5.41 20L4 18.59l7.72-7.72 1.47 1.35L5.41 20z\"/>\n",
              "  </svg>\n",
              "      </button>\n",
              "      \n",
              "  <style>\n",
              "    .colab-df-container {\n",
              "      display:flex;\n",
              "      flex-wrap:wrap;\n",
              "      gap: 12px;\n",
              "    }\n",
              "\n",
              "    .colab-df-convert {\n",
              "      background-color: #E8F0FE;\n",
              "      border: none;\n",
              "      border-radius: 50%;\n",
              "      cursor: pointer;\n",
              "      display: none;\n",
              "      fill: #1967D2;\n",
              "      height: 32px;\n",
              "      padding: 0 0 0 0;\n",
              "      width: 32px;\n",
              "    }\n",
              "\n",
              "    .colab-df-convert:hover {\n",
              "      background-color: #E2EBFA;\n",
              "      box-shadow: 0px 1px 2px rgba(60, 64, 67, 0.3), 0px 1px 3px 1px rgba(60, 64, 67, 0.15);\n",
              "      fill: #174EA6;\n",
              "    }\n",
              "\n",
              "    [theme=dark] .colab-df-convert {\n",
              "      background-color: #3B4455;\n",
              "      fill: #D2E3FC;\n",
              "    }\n",
              "\n",
              "    [theme=dark] .colab-df-convert:hover {\n",
              "      background-color: #434B5C;\n",
              "      box-shadow: 0px 1px 3px 1px rgba(0, 0, 0, 0.15);\n",
              "      filter: drop-shadow(0px 1px 2px rgba(0, 0, 0, 0.3));\n",
              "      fill: #FFFFFF;\n",
              "    }\n",
              "  </style>\n",
              "\n",
              "      <script>\n",
              "        const buttonEl =\n",
              "          document.querySelector('#df-57fdda99-61bd-4f7e-a904-6527b6d9eb36 button.colab-df-convert');\n",
              "        buttonEl.style.display =\n",
              "          google.colab.kernel.accessAllowed ? 'block' : 'none';\n",
              "\n",
              "        async function convertToInteractive(key) {\n",
              "          const element = document.querySelector('#df-57fdda99-61bd-4f7e-a904-6527b6d9eb36');\n",
              "          const dataTable =\n",
              "            await google.colab.kernel.invokeFunction('convertToInteractive',\n",
              "                                                     [key], {});\n",
              "          if (!dataTable) return;\n",
              "\n",
              "          const docLinkHtml = 'Like what you see? Visit the ' +\n",
              "            '<a target=\"_blank\" href=https://colab.research.google.com/notebooks/data_table.ipynb>data table notebook</a>'\n",
              "            + ' to learn more about interactive tables.';\n",
              "          element.innerHTML = '';\n",
              "          dataTable['output_type'] = 'display_data';\n",
              "          await google.colab.output.renderOutput(dataTable, element);\n",
              "          const docLink = document.createElement('div');\n",
              "          docLink.innerHTML = docLinkHtml;\n",
              "          element.appendChild(docLink);\n",
              "        }\n",
              "      </script>\n",
              "    </div>\n",
              "  </div>\n",
              "  "
            ]
          },
          "metadata": {},
          "execution_count": 29
        }
      ]
    },
    {
      "cell_type": "markdown",
      "source": [
        "Хорошего настроения!"
      ],
      "metadata": {
        "id": "OPY-9lVArvPc"
      }
    }
  ]
}